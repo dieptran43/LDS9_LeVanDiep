{
 "cells": [
  {
   "cell_type": "markdown",
   "metadata": {},
   "source": [
    "## Cho dữ liệu 5000_points.txt\n",
    "1. Đọc dữ liệu =>data. Có bao nhiêu element trong data? In 5 element đầu tiên?\n",
    "2. Tạo PairRDD có tên là pair_data từ data trên, với mỗi element của data sẽ tạo thành 1 PairRDD là tuple có 2 phần tử\n",
    "kiểu in được tách ra bởi dấu phân tách \"\\t\". In 5 element đầu tiên.\n",
    "3. Tạo pair_data_sort từ pair_data với key được sắp xếp giảm dần. In 5 element đầu tiên.\n",
    "4. Với pair_data_sort hãy đếm số lượng element theo key. In ra key có số item > 1.\n",
    "5. Tạo pair_data_group từ pair_data_sort bằng cách nhóm các value có cùng key. In ra các key có item > 1.\n",
    "6. Tạo pair_data_redurce từ pair_data_sort, với các value có cùng key thì lấy giá trị lớn nhất trong các value.\n",
    "Cho biết số phần tử của pair_data_redurce này?\n"
   ]
  },
  {
   "cell_type": "code",
   "execution_count": 1,
   "metadata": {},
   "outputs": [],
   "source": [
    "import findspark\n",
    "findspark.init()"
   ]
  },
  {
   "cell_type": "code",
   "execution_count": 4,
   "metadata": {},
   "outputs": [],
   "source": [
    "import pyspark\n",
    "from pyspark import SparkContext\n",
    "from pyspark.sql import SparkSession"
   ]
  },
  {
   "cell_type": "code",
   "execution_count": 5,
   "metadata": {},
   "outputs": [],
   "source": [
    "sc = SparkContext()"
   ]
  },
  {
   "cell_type": "code",
   "execution_count": 6,
   "metadata": {},
   "outputs": [
    {
     "data": {
      "text/html": [
       "\n",
       "        <div>\n",
       "            <p><b>SparkContext</b></p>\n",
       "\n",
       "            <p><a href=\"http://www.techsmith.com:4040\">Spark UI</a></p>\n",
       "\n",
       "            <dl>\n",
       "              <dt>Version</dt>\n",
       "                <dd><code>v2.4.4</code></dd>\n",
       "              <dt>Master</dt>\n",
       "                <dd><code>local[*]</code></dd>\n",
       "              <dt>AppName</dt>\n",
       "                <dd><code>pyspark-shell</code></dd>\n",
       "            </dl>\n",
       "        </div>\n",
       "        "
      ],
      "text/plain": [
       "<SparkContext master=local[*] appName=pyspark-shell>"
      ]
     },
     "execution_count": 6,
     "metadata": {},
     "output_type": "execute_result"
    }
   ],
   "source": [
    "sc"
   ]
  },
  {
   "cell_type": "code",
   "execution_count": 7,
   "metadata": {},
   "outputs": [
    {
     "name": "stdout",
     "output_type": "stream",
     "text": [
      "The type of Data:  Data/5000_points.txt MapPartitionsRDD[1] at textFile at NativeMethodAccessorImpl.java:0\n",
      "Count:  5000\n"
     ]
    }
   ],
   "source": [
    "## 1. Đọc dữ liệu => data. Có bao nhiêu element trong data? In 5 element đầu tiên.\n",
    "data = sc.textFile(\"Data/5000_points.txt\", minPartitions = 3)\n",
    "print(\"The type of Data: \", data)\n",
    "print(\"Count: \", data.count())"
   ]
  },
  {
   "cell_type": "code",
   "execution_count": 8,
   "metadata": {},
   "outputs": [
    {
     "data": {
      "text/plain": [
       "['664159\\t550946',\n",
       " '665845\\t557965',\n",
       " '597173\\t575538',\n",
       " '618600\\t551446',\n",
       " '635690\\t608046']"
      ]
     },
     "execution_count": 8,
     "metadata": {},
     "output_type": "execute_result"
    }
   ],
   "source": [
    "data.take(5)"
   ]
  },
  {
   "cell_type": "code",
   "execution_count": 25,
   "metadata": {},
   "outputs": [
    {
     "data": {
      "text/plain": [
       "3"
      ]
     },
     "execution_count": 25,
     "metadata": {},
     "output_type": "execute_result"
    }
   ],
   "source": [
    "data.getNumPartitions()"
   ]
  },
  {
   "cell_type": "code",
   "execution_count": 9,
   "metadata": {},
   "outputs": [
    {
     "name": "stdout",
     "output_type": "stream",
     "text": [
      "Type:  PythonRDD[4] at RDD at PythonRDD.scala:53\n"
     ]
    }
   ],
   "source": [
    "## 2. Tạo PairRDD có tên là pair_data từ data trên, với mỗi element của data sẽ tạo thành 1 PairRDD là tuple có 2 phần tử kiểu\n",
    "## int được tách ra bởi dấu '\\t'. In 5 element đầu tiên.\n",
    "\n",
    "pair_data = data.map(lambda x: (int(x.split(\"\\t\")[0]), int(x.split(\"\\t\")[1])))\n",
    "print(\"Type: \", pair_data)\n"
   ]
  },
  {
   "cell_type": "code",
   "execution_count": 10,
   "metadata": {},
   "outputs": [
    {
     "data": {
      "text/plain": [
       "[(664159, 550946),\n",
       " (665845, 557965),\n",
       " (597173, 575538),\n",
       " (618600, 551446),\n",
       " (635690, 608046)]"
      ]
     },
     "execution_count": 10,
     "metadata": {},
     "output_type": "execute_result"
    }
   ],
   "source": [
    "pair_data.take(5)"
   ]
  },
  {
   "cell_type": "code",
   "execution_count": 13,
   "metadata": {},
   "outputs": [
    {
     "data": {
      "text/plain": [
       "[(961951, 577029),\n",
       " (937823, 540173),\n",
       " (932662, 537069),\n",
       " (927170, 250593),\n",
       " (925732, 210388)]"
      ]
     },
     "execution_count": 13,
     "metadata": {},
     "output_type": "execute_result"
    }
   ],
   "source": [
    "## 3: Tạo pair_data_sort từ pair_data với key được sắp xếp giảm dần. In 5 element đầu tiên.\n",
    "pair_data_sort = pair_data.sortByKey(ascending = False)\n",
    "pair_data_sort.take(5)"
   ]
  },
  {
   "cell_type": "code",
   "execution_count": 15,
   "metadata": {},
   "outputs": [
    {
     "name": "stdout",
     "output_type": "stream",
     "text": [
      "871544 2\n",
      "865489 2\n",
      "838036 2\n",
      "826192 2\n",
      "805089 2\n",
      "804251 2\n",
      "620330 2\n",
      "618869 2\n",
      "393758 2\n",
      "341966 2\n",
      "338474 2\n",
      "186380 2\n",
      "166973 2\n"
     ]
    }
   ],
   "source": [
    "## 4: Với pair_data_sort, hãy đếm số lượng các item theo key, In ra những key có số item > 1\n",
    "for key, val in pair_data_sort.countByKey().items():\n",
    "    if val > 1:\n",
    "        print(key, val)\n",
    "    \n"
   ]
  },
  {
   "cell_type": "code",
   "execution_count": 21,
   "metadata": {},
   "outputs": [
    {
     "name": "stdout",
     "output_type": "stream",
     "text": [
      "805089 [762512, 96540]\n",
      "865489 [161762, 548920]\n",
      "838036 [749612, 542999]\n",
      "826192 [172906, 577784]\n",
      "871544 [144135, 592403]\n",
      "804251 [329956, 331304]\n",
      "620330 [398630, 396776]\n",
      "618869 [577243, 398187]\n",
      "393758 [750953, 439738]\n",
      "341966 [561987, 586266]\n",
      "338474 [563350, 564151]\n",
      "186380 [363938, 487625]\n",
      "166973 [341636, 334724]\n"
     ]
    }
   ],
   "source": [
    "## 5: Tạo pair_data_groupby từ pair_data_sort bằng cách nhóm các value có cùng key. In ra các key có số item > 1\n",
    "pair_data_groupby = pair_data_sort.groupByKey().collect()\n",
    "for key, val in pair_data_groupby:\n",
    "    if len(list(val)) > 1:\n",
    "        print(key, list(val))\n",
    "\n"
   ]
  },
  {
   "cell_type": "code",
   "execution_count": 23,
   "metadata": {},
   "outputs": [
    {
     "name": "stdout",
     "output_type": "stream",
     "text": [
      "Number of element:  4987\n"
     ]
    }
   ],
   "source": [
    "## 6. Tạo pair_data_reduce từ pair_data_sort, với các value có cùng key thì lấy giá trị lớn nhất trong các value.\n",
    "## Cho biết số phần tử của pair_data_reduce này\n",
    "\n",
    "import math\n",
    "pair_data_reduce = pair_data.reduceByKey(lambda x, y : max(x, y))\n",
    "\n",
    "print(\"Number of element: \", pair_data_reduce.count())"
   ]
  },
  {
   "cell_type": "code",
   "execution_count": 24,
   "metadata": {},
   "outputs": [
    {
     "name": "stdout",
     "output_type": "stream",
     "text": [
      "620330 398630\n"
     ]
    }
   ],
   "source": [
    "for x, y in pair_data_reduce.collect():\n",
    "    if x == 620330:\n",
    "        print(x, y)"
   ]
  },
  {
   "cell_type": "code",
   "execution_count": null,
   "metadata": {},
   "outputs": [],
   "source": []
  },
  {
   "cell_type": "code",
   "execution_count": null,
   "metadata": {},
   "outputs": [],
   "source": []
  }
 ],
 "metadata": {
  "kernelspec": {
   "display_name": "Python 3",
   "language": "python",
   "name": "python3"
  },
  "language_info": {
   "codemirror_mode": {
    "name": "ipython",
    "version": 3
   },
   "file_extension": ".py",
   "mimetype": "text/x-python",
   "name": "python",
   "nbconvert_exporter": "python",
   "pygments_lexer": "ipython3",
   "version": "3.6.8"
  }
 },
 "nbformat": 4,
 "nbformat_minor": 2
}
