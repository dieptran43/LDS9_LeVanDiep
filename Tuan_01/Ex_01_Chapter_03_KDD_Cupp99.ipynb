{
 "cells": [
  {
   "cell_type": "code",
   "execution_count": 14,
   "metadata": {},
   "outputs": [],
   "source": [
    "# Ex01: KDD CUP 99\n",
    "## Cho dữ liệu KDD Cup 99 http://kdd.ics.uci.edu/databases/kddcup99/kddcup99.html\n",
    "\n",
    "## Yêu Cầu:\n",
    "## 1. Đọc dữ liệu \"*.gz\". Tạo RDD từ dữ liệu này.\n",
    "## 2. Cho biết dữ liệu có bao nhiêu element.\n",
    "## 3. In thông tin 3 element đầu tiên\n",
    "## 4. Tạo RDD mới từ RDD trên (điều kiện có chuỗi 'normal.')\n",
    "## 5. Cho biết RDD mới có bao nhiêu element? Thời gian đếm?\n",
    "## 6. Tạo array chứa tất cả element RDD ban đầu? Thời gian thực hiện?\n",
    "## 7. Tạo RDD sample bằng 1/10 RDD ban đầu, các element lấy ngẫu nhiên\n",
    "## 8. Tỷ lệ element chứa chuỗi \"normal.\" so với tổng số element tron RDD sample? Thời gian thực hiện?\n",
    "## 9: Tạo RDD Sample với các element không chứa từ \"normal.\" từ RDD sample trên. Số element của RDD này là bao nhiêu? \n",
    "## in thông tin element đầu tiên của element này?\n",
    "## 10: Với RDD ban đầu, mỗi element là một chuỗi. Hãy tạo ra một RDD mới(array_RDD) với mối element là một danh sách các\n",
    "## phần tử được tách ra từ chuỗi với dấu phân cách là phẩy \",\". In element đầu tiên của RDD này?\n",
    "## 11: Với array RDD trên, hãy cho biết những protocol nào được sử dụng?  Có bao nhiêu protocol?\n",
    "## (biết protocol là phần tử thứ 2 trong từng element)\n",
    "## 12: Với array RDD trên, hãy cho biết những service nào được sử dụng? Có bao nhiêu service(service phần tử thứ 3 của element)\n",
    "## 13: Một sản phẩm được tạo sẽ có 1 protocol và 1 service,  tạo một bảng danh sách các sản phẩm bằng cách phối hợp từng \n",
    "## protocol và service của 2 câu trên (dùng RDD1.cartessian(RDD2).collect(). In kết quả. Có bao nhiêu sản phẩm được tạo ra?\n",
    "## 14: Cho biết partition của array_RDD\n",
    "## 15: Lưu array_RDD vào thư mục \"kdd_cup\" với mỗi partition là 1 file riêng lẻ.\n",
    "\n"
   ]
  },
  {
   "cell_type": "code",
   "execution_count": null,
   "metadata": {},
   "outputs": [],
   "source": []
  },
  {
   "cell_type": "code",
   "execution_count": 2,
   "metadata": {},
   "outputs": [],
   "source": [
    "import os\n",
    "import findspark\n",
    "findspark.init()\n",
    "import pyspark\n",
    "from pyspark import SparkContext\n",
    "from pyspark.sql import SparkSession"
   ]
  },
  {
   "cell_type": "code",
   "execution_count": 3,
   "metadata": {},
   "outputs": [],
   "source": [
    "sc = SparkContext()"
   ]
  },
  {
   "cell_type": "code",
   "execution_count": 4,
   "metadata": {},
   "outputs": [],
   "source": [
    "## 1. Đọc file\n",
    "file = \"Data/kddcup.data_10_percent.gz\"\n",
    "data = sc.textFile(file)"
   ]
  },
  {
   "cell_type": "code",
   "execution_count": 5,
   "metadata": {},
   "outputs": [
    {
     "name": "stdout",
     "output_type": "stream",
     "text": [
      "Lines  494021\n"
     ]
    }
   ],
   "source": [
    "## 2. Đếm element\n",
    "print(\"Lines \", data.count())"
   ]
  },
  {
   "cell_type": "code",
   "execution_count": 6,
   "metadata": {},
   "outputs": [
    {
     "data": {
      "text/plain": [
       "['0,tcp,http,SF,181,5450,0,0,0,0,0,1,0,0,0,0,0,0,0,0,0,0,8,8,0.00,0.00,0.00,0.00,1.00,0.00,0.00,9,9,1.00,0.00,0.11,0.00,0.00,0.00,0.00,0.00,normal.',\n",
       " '0,tcp,http,SF,239,486,0,0,0,0,0,1,0,0,0,0,0,0,0,0,0,0,8,8,0.00,0.00,0.00,0.00,1.00,0.00,0.00,19,19,1.00,0.00,0.05,0.00,0.00,0.00,0.00,0.00,normal.',\n",
       " '0,tcp,http,SF,235,1337,0,0,0,0,0,1,0,0,0,0,0,0,0,0,0,0,8,8,0.00,0.00,0.00,0.00,1.00,0.00,0.00,29,29,1.00,0.00,0.03,0.00,0.00,0.00,0.00,0.00,normal.']"
      ]
     },
     "execution_count": 6,
     "metadata": {},
     "output_type": "execute_result"
    }
   ],
   "source": [
    "## 3. In thông tin 3 element đầu tiên\n",
    "data.take(3)"
   ]
  },
  {
   "cell_type": "code",
   "execution_count": 7,
   "metadata": {},
   "outputs": [
    {
     "data": {
      "text/plain": [
       "'0,tcp,http,SF,181,5450,0,0,0,0,0,1,0,0,0,0,0,0,0,0,0,0,8,8,0.00,0.00,0.00,0.00,1.00,0.00,0.00,9,9,1.00,0.00,0.11,0.00,0.00,0.00,0.00,0.00,normal.'"
      ]
     },
     "execution_count": 7,
     "metadata": {},
     "output_type": "execute_result"
    }
   ],
   "source": [
    "data.first()"
   ]
  },
  {
   "cell_type": "code",
   "execution_count": 8,
   "metadata": {},
   "outputs": [
    {
     "data": {
      "text/plain": [
       "['0,tcp,http,SF,181,5450,0,0,0,0,0,1,0,0,0,0,0,0,0,0,0,0,8,8,0.00,0.00,0.00,0.00,1.00,0.00,0.00,9,9,1.00,0.00,0.11,0.00,0.00,0.00,0.00,0.00,normal.',\n",
       " '0,tcp,http,SF,239,486,0,0,0,0,0,1,0,0,0,0,0,0,0,0,0,0,8,8,0.00,0.00,0.00,0.00,1.00,0.00,0.00,19,19,1.00,0.00,0.05,0.00,0.00,0.00,0.00,0.00,normal.']"
      ]
     },
     "execution_count": 8,
     "metadata": {},
     "output_type": "execute_result"
    }
   ],
   "source": [
    "## 4.Tạo RDD từ RDD trên (điều kiện có chuỗi \"normal.\")\n",
    "normal_data = data.filter(lambda x: \"normal.\" in x)\n",
    "normal_data.take(2)"
   ]
  },
  {
   "cell_type": "code",
   "execution_count": 9,
   "metadata": {},
   "outputs": [
    {
     "name": "stdout",
     "output_type": "stream",
     "text": [
      "normal_data:  97278  elements\n",
      "Times:  1.893  seconds\n"
     ]
    }
   ],
   "source": [
    "## 5. Cho biết RDD mới có bao nhiêu element? Thời gian đếm?\n",
    "from time import time\n",
    "t0 = time()\n",
    "normal_count = normal_data.count()\n",
    "t1 = time() - t0\n",
    "print(\"normal_data: \", normal_count, \" elements\")\n",
    "print(\"Times: \", format(round(t1, 3)), \" seconds\")\n"
   ]
  },
  {
   "cell_type": "code",
   "execution_count": 10,
   "metadata": {},
   "outputs": [
    {
     "name": "stdout",
     "output_type": "stream",
     "text": [
      "Times:  3.61  seconds\n"
     ]
    }
   ],
   "source": [
    "## 6. Tạo array chứa tất cả element RDD ban đầu? Thời gian thực hiện?\n",
    "t0 = time()\n",
    "array_data = data.collect()\n",
    "t1 = time() - t0\n",
    "print(\"Times: \", format(round(t1, 3)), \" seconds\")"
   ]
  },
  {
   "cell_type": "code",
   "execution_count": 11,
   "metadata": {},
   "outputs": [
    {
     "name": "stdout",
     "output_type": "stream",
     "text": [
      "Sample size/ Data size: 49387.000000 / 494021.000000\n"
     ]
    }
   ],
   "source": [
    "## 7. Tạo RDD sample bằng 1/10 RDD ban đầu, các element lấy ngẫu nhiên\n",
    "data_sample = data.sample(False, 0.1, 42)\n",
    "sample_size = data_sample.count()\n",
    "data_size = data.count()\n",
    "print(\"Sample size/ Data size: %f / %f\" %(sample_size, data_size))"
   ]
  },
  {
   "cell_type": "code",
   "execution_count": 16,
   "metadata": {},
   "outputs": [
    {
     "name": "stdout",
     "output_type": "stream",
     "text": [
      "Sample normal size:  9733\n",
      "The ratio of 'normal' interactions is  0.197\n",
      "Count done in  1.94  seconds\n"
     ]
    }
   ],
   "source": [
    "## 8. Tỷ lệ element chứa chuỗi \"normal.\" so với tổng số element tron RDD sample? Thời gian thực hiện?\n",
    "sample_normal_tags = data_sample.filter(lambda x: \"normal.\" in x)\n",
    "t0 = time()\n",
    "sample_normal_tags_count = sample_normal_tags.count()\n",
    "t1 = time() - t0\n",
    "sample_normal_ratio = sample_normal_tags_count/ sample_size\n",
    "\n",
    "print(\"Sample normal size: \", sample_normal_tags_count)\n",
    "print(\"The ratio of 'normal' interactions is \", round(sample_normal_ratio, 3))\n",
    "print(\"Count done in \", round(t1, 3), \" seconds\")\n"
   ]
  },
  {
   "cell_type": "code",
   "execution_count": 20,
   "metadata": {},
   "outputs": [
    {
     "name": "stdout",
     "output_type": "stream",
     "text": [
      "Count without normal:  39654\n",
      "First element:  0,icmp,ecr_i,SF,1032,0,0,0,0,0,0,0,0,0,0,0,0,0,0,0,0,0,509,509,0.00,0.00,0.00,0.00,1.00,0.00,0.00,255,255,1.00,0.00,1.00,0.00,0.00,0.00,0.00,0.00,smurf.\n"
     ]
    }
   ],
   "source": [
    "## 9: Tạo RDD without sample với các element không chứa từ \"normal.\" từ RDD sample trên.\n",
    "## Số element của RDD này là bao nhiêu? In thông tin element đầu tiên của RDD này?\n",
    "\n",
    "sample_without_normal = data_sample.subtract(sample_normal_tags)\n",
    "print(\"Count without normal: \", sample_without_normal.count())\n",
    "print(\"First element: \", sample_without_normal.first())"
   ]
  },
  {
   "cell_type": "code",
   "execution_count": 21,
   "metadata": {},
   "outputs": [
    {
     "data": {
      "text/plain": [
       "['0,icmp,ecr_i,SF,1032,0,0,0,0,0,0,0,0,0,0,0,0,0,0,0,0,0,509,509,0.00,0.00,0.00,0.00,1.00,0.00,0.00,255,255,1.00,0.00,1.00,0.00,0.00,0.00,0.00,0.00,smurf.',\n",
       " '0,icmp,ecr_i,SF,1032,0,0,0,0,0,0,0,0,0,0,0,0,0,0,0,0,0,509,509,0.00,0.00,0.00,0.00,1.00,0.00,0.00,255,255,1.00,0.00,1.00,0.00,0.00,0.00,0.00,0.00,smurf.']"
      ]
     },
     "execution_count": 21,
     "metadata": {},
     "output_type": "execute_result"
    }
   ],
   "source": [
    "sample_without_normal.take(2)"
   ]
  },
  {
   "cell_type": "code",
   "execution_count": 22,
   "metadata": {},
   "outputs": [
    {
     "name": "stdout",
     "output_type": "stream",
     "text": [
      "First:  ['0', 'tcp', 'http', 'SF', '181', '5450', '0', '0', '0', '0', '0', '1', '0', '0', '0', '0', '0', '0', '0', '0', '0', '0', '8', '8', '0.00', '0.00', '0.00', '0.00', '1.00', '0.00', '0.00', '9', '9', '1.00', '0.00', '0.11', '0.00', '0.00', '0.00', '0.00', '0.00', 'normal.']\n"
     ]
    }
   ],
   "source": [
    "## 10: Với RDD ban đầu mỗi element là một chuỗi. Hảy tạo 1 RDD array mới(array_RDD)  với mỗi element là một danh sách các\n",
    "## Phần tử được tách ra từ chuổi với dấu phân cách là \",\". In thông tin đầu tiên cảu RDD này?\n",
    "array_RDD = data.map(lambda x: x.split(\",\"))\n",
    "print(\"First: \", array_RDD.first())"
   ]
  },
  {
   "cell_type": "code",
   "execution_count": 24,
   "metadata": {},
   "outputs": [
    {
     "name": "stdout",
     "output_type": "stream",
     "text": [
      "Take 2: [['0', 'tcp', 'http', 'SF', '181', '5450', '0', '0', '0', '0', '0', '1', '0', '0', '0', '0', '0', '0', '0', '0', '0', '0', '8', '8', '0.00', '0.00', '0.00', '0.00', '1.00', '0.00', '0.00', '9', '9', '1.00', '0.00', '0.11', '0.00', '0.00', '0.00', '0.00', '0.00', 'normal.'], ['0', 'tcp', 'http', 'SF', '239', '486', '0', '0', '0', '0', '0', '1', '0', '0', '0', '0', '0', '0', '0', '0', '0', '0', '8', '8', '0.00', '0.00', '0.00', '0.00', '1.00', '0.00', '0.00', '19', '19', '1.00', '0.00', '0.05', '0.00', '0.00', '0.00', '0.00', '0.00', 'normal.']]\n"
     ]
    }
   ],
   "source": [
    "print(\"Take 2:\", array_RDD.take(2))"
   ]
  },
  {
   "cell_type": "code",
   "execution_count": 25,
   "metadata": {},
   "outputs": [
    {
     "name": "stdout",
     "output_type": "stream",
     "text": [
      "Type:  PythonRDD[53] at RDD at PythonRDD.scala:53\n",
      "Data:  ['tcp', 'udp', 'icmp']\n"
     ]
    }
   ],
   "source": [
    "## 11: Với array_RDD trên, cho biết có những protocol nào được sử dụng? Có bao nhiêu protocol? (biết protocol là phần tử thứ 2)\n",
    "protocols = array_RDD.map(lambda x: x[1]).distinct()\n",
    "print(\"Type: \", protocols)\n",
    "print(\"Data: \", protocols.collect())"
   ]
  },
  {
   "cell_type": "code",
   "execution_count": 28,
   "metadata": {},
   "outputs": [
    {
     "name": "stdout",
     "output_type": "stream",
     "text": [
      "Numbers protocols:  3\n"
     ]
    }
   ],
   "source": [
    "print(\"Numbers protocols: \", protocols.count())"
   ]
  },
  {
   "cell_type": "code",
   "execution_count": null,
   "metadata": {},
   "outputs": [],
   "source": []
  },
  {
   "cell_type": "code",
   "execution_count": 29,
   "metadata": {},
   "outputs": [
    {
     "name": "stdout",
     "output_type": "stream",
     "text": [
      "Data:  ['http', 'smtp', 'finger', 'domain_u', 'auth', 'telnet', 'ftp', 'eco_i', 'ntp_u', 'ecr_i', 'other', 'private', 'pop_3', 'ftp_data', 'rje', 'time', 'mtp', 'link', 'remote_job', 'gopher', 'ssh', 'name', 'whois', 'domain', 'login', 'imap4', 'daytime', 'ctf', 'nntp', 'shell', 'IRC', 'nnsp', 'http_443', 'exec', 'printer', 'efs', 'courier', 'uucp', 'klogin', 'kshell', 'echo', 'discard', 'systat', 'supdup', 'iso_tsap', 'hostnames', 'csnet_ns', 'pop_2', 'sunrpc', 'uucp_path', 'netbios_ns', 'netbios_ssn', 'netbios_dgm', 'sql_net', 'vmnet', 'bgp', 'Z39_50', 'ldap', 'netstat', 'urh_i', 'X11', 'urp_i', 'pm_dump', 'tftp_u', 'tim_i', 'red_i']\n",
      "Count:  66\n"
     ]
    }
   ],
   "source": [
    "## 12: Với array_RDD trên, hãy cho biết những serice nào được sử dụng? Có bao nhiêu service? (service là phần tử thứ 3)\n",
    "services = array_RDD.map(lambda x: x[2]).distinct()\n",
    "print(\"Data: \", services.collect())\n",
    "print(\"Count: \", services.count())"
   ]
  },
  {
   "cell_type": "code",
   "execution_count": 36,
   "metadata": {},
   "outputs": [
    {
     "data": {
      "text/plain": [
       "[('tcp', 'http'),\n",
       " ('tcp', 'smtp'),\n",
       " ('tcp', 'finger'),\n",
       " ('tcp', 'domain_u'),\n",
       " ('tcp', 'auth'),\n",
       " ('tcp', 'telnet'),\n",
       " ('tcp', 'ftp'),\n",
       " ('tcp', 'eco_i'),\n",
       " ('tcp', 'ntp_u'),\n",
       " ('tcp', 'ecr_i'),\n",
       " ('tcp', 'other'),\n",
       " ('tcp', 'private'),\n",
       " ('tcp', 'pop_3'),\n",
       " ('tcp', 'ftp_data'),\n",
       " ('tcp', 'rje'),\n",
       " ('tcp', 'time'),\n",
       " ('tcp', 'mtp'),\n",
       " ('tcp', 'link'),\n",
       " ('tcp', 'remote_job'),\n",
       " ('tcp', 'gopher'),\n",
       " ('tcp', 'ssh'),\n",
       " ('tcp', 'name'),\n",
       " ('tcp', 'whois'),\n",
       " ('tcp', 'domain'),\n",
       " ('tcp', 'login'),\n",
       " ('tcp', 'imap4'),\n",
       " ('tcp', 'daytime'),\n",
       " ('tcp', 'ctf'),\n",
       " ('tcp', 'nntp'),\n",
       " ('tcp', 'shell'),\n",
       " ('tcp', 'IRC'),\n",
       " ('tcp', 'nnsp'),\n",
       " ('tcp', 'http_443'),\n",
       " ('tcp', 'exec'),\n",
       " ('tcp', 'printer'),\n",
       " ('tcp', 'efs'),\n",
       " ('tcp', 'courier'),\n",
       " ('tcp', 'uucp'),\n",
       " ('tcp', 'klogin'),\n",
       " ('tcp', 'kshell'),\n",
       " ('tcp', 'echo'),\n",
       " ('tcp', 'discard'),\n",
       " ('tcp', 'systat'),\n",
       " ('tcp', 'supdup'),\n",
       " ('tcp', 'iso_tsap'),\n",
       " ('tcp', 'hostnames'),\n",
       " ('tcp', 'csnet_ns'),\n",
       " ('tcp', 'pop_2'),\n",
       " ('tcp', 'sunrpc'),\n",
       " ('tcp', 'uucp_path'),\n",
       " ('tcp', 'netbios_ns'),\n",
       " ('tcp', 'netbios_ssn'),\n",
       " ('tcp', 'netbios_dgm'),\n",
       " ('tcp', 'sql_net'),\n",
       " ('tcp', 'vmnet'),\n",
       " ('tcp', 'bgp'),\n",
       " ('tcp', 'Z39_50'),\n",
       " ('tcp', 'ldap'),\n",
       " ('tcp', 'netstat'),\n",
       " ('tcp', 'urh_i'),\n",
       " ('tcp', 'X11'),\n",
       " ('tcp', 'urp_i'),\n",
       " ('tcp', 'pm_dump'),\n",
       " ('tcp', 'tftp_u'),\n",
       " ('tcp', 'tim_i'),\n",
       " ('tcp', 'red_i'),\n",
       " ('udp', 'http'),\n",
       " ('icmp', 'http'),\n",
       " ('udp', 'smtp'),\n",
       " ('udp', 'finger'),\n",
       " ('icmp', 'smtp'),\n",
       " ('icmp', 'finger'),\n",
       " ('udp', 'domain_u'),\n",
       " ('udp', 'auth'),\n",
       " ('udp', 'telnet'),\n",
       " ('udp', 'ftp'),\n",
       " ('icmp', 'domain_u'),\n",
       " ('icmp', 'auth'),\n",
       " ('icmp', 'telnet'),\n",
       " ('icmp', 'ftp'),\n",
       " ('udp', 'eco_i'),\n",
       " ('udp', 'ntp_u'),\n",
       " ('udp', 'ecr_i'),\n",
       " ('udp', 'other'),\n",
       " ('udp', 'private'),\n",
       " ('udp', 'pop_3'),\n",
       " ('udp', 'ftp_data'),\n",
       " ('udp', 'rje'),\n",
       " ('icmp', 'eco_i'),\n",
       " ('icmp', 'ntp_u'),\n",
       " ('icmp', 'ecr_i'),\n",
       " ('icmp', 'other'),\n",
       " ('icmp', 'private'),\n",
       " ('icmp', 'pop_3'),\n",
       " ('icmp', 'ftp_data'),\n",
       " ('icmp', 'rje'),\n",
       " ('udp', 'time'),\n",
       " ('udp', 'mtp'),\n",
       " ('udp', 'link'),\n",
       " ('udp', 'remote_job'),\n",
       " ('udp', 'gopher'),\n",
       " ('udp', 'ssh'),\n",
       " ('udp', 'name'),\n",
       " ('udp', 'whois'),\n",
       " ('udp', 'domain'),\n",
       " ('udp', 'login'),\n",
       " ('udp', 'imap4'),\n",
       " ('udp', 'daytime'),\n",
       " ('udp', 'ctf'),\n",
       " ('udp', 'nntp'),\n",
       " ('udp', 'shell'),\n",
       " ('udp', 'IRC'),\n",
       " ('icmp', 'time'),\n",
       " ('icmp', 'mtp'),\n",
       " ('icmp', 'link'),\n",
       " ('icmp', 'remote_job'),\n",
       " ('icmp', 'gopher'),\n",
       " ('icmp', 'ssh'),\n",
       " ('icmp', 'name'),\n",
       " ('icmp', 'whois'),\n",
       " ('icmp', 'domain'),\n",
       " ('icmp', 'login'),\n",
       " ('icmp', 'imap4'),\n",
       " ('icmp', 'daytime'),\n",
       " ('icmp', 'ctf'),\n",
       " ('icmp', 'nntp'),\n",
       " ('icmp', 'shell'),\n",
       " ('icmp', 'IRC'),\n",
       " ('udp', 'nnsp'),\n",
       " ('udp', 'http_443'),\n",
       " ('udp', 'exec'),\n",
       " ('udp', 'printer'),\n",
       " ('udp', 'efs'),\n",
       " ('udp', 'courier'),\n",
       " ('udp', 'uucp'),\n",
       " ('udp', 'klogin'),\n",
       " ('udp', 'kshell'),\n",
       " ('udp', 'echo'),\n",
       " ('udp', 'discard'),\n",
       " ('udp', 'systat'),\n",
       " ('udp', 'supdup'),\n",
       " ('udp', 'iso_tsap'),\n",
       " ('udp', 'hostnames'),\n",
       " ('udp', 'csnet_ns'),\n",
       " ('udp', 'pop_2'),\n",
       " ('udp', 'sunrpc'),\n",
       " ('udp', 'uucp_path'),\n",
       " ('udp', 'netbios_ns'),\n",
       " ('udp', 'netbios_ssn'),\n",
       " ('udp', 'netbios_dgm'),\n",
       " ('udp', 'sql_net'),\n",
       " ('udp', 'vmnet'),\n",
       " ('udp', 'bgp'),\n",
       " ('udp', 'Z39_50'),\n",
       " ('udp', 'ldap'),\n",
       " ('udp', 'netstat'),\n",
       " ('udp', 'urh_i'),\n",
       " ('udp', 'X11'),\n",
       " ('udp', 'urp_i'),\n",
       " ('udp', 'pm_dump'),\n",
       " ('icmp', 'nnsp'),\n",
       " ('icmp', 'http_443'),\n",
       " ('icmp', 'exec'),\n",
       " ('icmp', 'printer'),\n",
       " ('icmp', 'efs'),\n",
       " ('icmp', 'courier'),\n",
       " ('icmp', 'uucp'),\n",
       " ('icmp', 'klogin'),\n",
       " ('icmp', 'kshell'),\n",
       " ('icmp', 'echo'),\n",
       " ('icmp', 'discard'),\n",
       " ('icmp', 'systat'),\n",
       " ('icmp', 'supdup'),\n",
       " ('icmp', 'iso_tsap'),\n",
       " ('icmp', 'hostnames'),\n",
       " ('icmp', 'csnet_ns'),\n",
       " ('icmp', 'pop_2'),\n",
       " ('icmp', 'sunrpc'),\n",
       " ('icmp', 'uucp_path'),\n",
       " ('icmp', 'netbios_ns'),\n",
       " ('icmp', 'netbios_ssn'),\n",
       " ('icmp', 'netbios_dgm'),\n",
       " ('icmp', 'sql_net'),\n",
       " ('icmp', 'vmnet'),\n",
       " ('icmp', 'bgp'),\n",
       " ('icmp', 'Z39_50'),\n",
       " ('icmp', 'ldap'),\n",
       " ('icmp', 'netstat'),\n",
       " ('icmp', 'urh_i'),\n",
       " ('icmp', 'X11'),\n",
       " ('icmp', 'urp_i'),\n",
       " ('icmp', 'pm_dump'),\n",
       " ('udp', 'tftp_u'),\n",
       " ('udp', 'tim_i'),\n",
       " ('udp', 'red_i'),\n",
       " ('icmp', 'tftp_u'),\n",
       " ('icmp', 'tim_i'),\n",
       " ('icmp', 'red_i')]"
      ]
     },
     "execution_count": 36,
     "metadata": {},
     "output_type": "execute_result"
    }
   ],
   "source": [
    "## 13: Một sản phẩm tạo ra sẽ từ 1 protocol và 1 service. Tạo một bảng danh sách các phẩm bằng cách phối hợp từng protocol\n",
    "## và service của 2 câu trên(gợi ý RDD1.cartesian(RDD2).collect(). In kết quả. Có bao nhiêu sản phẩm được tạo ra?\n",
    "products = protocols.cartesian(services).collect()\n",
    "products"
   ]
  },
  {
   "cell_type": "code",
   "execution_count": 40,
   "metadata": {},
   "outputs": [
    {
     "name": "stdout",
     "output_type": "stream",
     "text": [
      "Count products:  198\n"
     ]
    }
   ],
   "source": [
    "print('Count products: ', len(products))"
   ]
  },
  {
   "cell_type": "code",
   "execution_count": 43,
   "metadata": {},
   "outputs": [
    {
     "data": {
      "text/plain": [
       "1"
      ]
     },
     "execution_count": 43,
     "metadata": {},
     "output_type": "execute_result"
    }
   ],
   "source": [
    "## 14: Cho biết số lượng partition của array_RDD?\n",
    "array_RDD.getNumPartitions()"
   ]
  },
  {
   "cell_type": "code",
   "execution_count": 44,
   "metadata": {},
   "outputs": [],
   "source": [
    "## 15; Lưu array_RDD vào thư mục \"kdd_cup\" với mỗi partition là một file riêng lẻ?\n",
    "array_RDD.saveAsTextFile('Data/kdd_cup')"
   ]
  },
  {
   "cell_type": "code",
   "execution_count": null,
   "metadata": {},
   "outputs": [],
   "source": []
  }
 ],
 "metadata": {
  "kernelspec": {
   "display_name": "Python 3",
   "language": "python",
   "name": "python3"
  },
  "language_info": {
   "codemirror_mode": {
    "name": "ipython",
    "version": 3
   },
   "file_extension": ".py",
   "mimetype": "text/x-python",
   "name": "python",
   "nbconvert_exporter": "python",
   "pygments_lexer": "ipython3",
   "version": "3.6.8"
  }
 },
 "nbformat": 4,
 "nbformat_minor": 2
}
