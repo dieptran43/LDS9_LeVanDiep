{
 "cells": [
  {
   "cell_type": "code",
   "execution_count": 1,
   "metadata": {},
   "outputs": [],
   "source": [
    "#ngay 28/03/2020\n",
    "import os\n",
    "import findspark\n",
    "findspark.init()\n",
    "import pyspark\n",
    "from pyspark import SparkContext\n"
   ]
  },
  {
   "cell_type": "code",
   "execution_count": 2,
   "metadata": {},
   "outputs": [],
   "source": [
    "from pyspark.sql import Row, SQLContext"
   ]
  },
  {
   "cell_type": "code",
   "execution_count": 3,
   "metadata": {},
   "outputs": [],
   "source": [
    "sc = SparkContext()"
   ]
  },
  {
   "cell_type": "code",
   "execution_count": 4,
   "metadata": {},
   "outputs": [
    {
     "data": {
      "text/html": [
       "\n",
       "        <div>\n",
       "            <p><b>SparkContext</b></p>\n",
       "\n",
       "            <p><a href=\"http://www.techsmith.com:4040\">Spark UI</a></p>\n",
       "\n",
       "            <dl>\n",
       "              <dt>Version</dt>\n",
       "                <dd><code>v2.4.4</code></dd>\n",
       "              <dt>Master</dt>\n",
       "                <dd><code>local[*]</code></dd>\n",
       "              <dt>AppName</dt>\n",
       "                <dd><code>pyspark-shell</code></dd>\n",
       "            </dl>\n",
       "        </div>\n",
       "        "
      ],
      "text/plain": [
       "<SparkContext master=local[*] appName=pyspark-shell>"
      ]
     },
     "execution_count": 4,
     "metadata": {},
     "output_type": "execute_result"
    }
   ],
   "source": [
    "sc"
   ]
  },
  {
   "cell_type": "code",
   "execution_count": 5,
   "metadata": {},
   "outputs": [],
   "source": [
    "sqlContext = SQLContext(sc)"
   ]
  },
  {
   "cell_type": "code",
   "execution_count": 6,
   "metadata": {},
   "outputs": [],
   "source": [
    "lst = [('John', 10),('Lyna', 9),('Samatha', 8),('Tony', 10)]\n",
    "rdd = sc.parallelize(lst)\n",
    "people = rdd.map(lambda x: Row(name=x[0], marks = int(x[1])))\n",
    "schemaPeople = sqlContext.createDataFrame(people)"
   ]
  },
  {
   "cell_type": "code",
   "execution_count": 7,
   "metadata": {},
   "outputs": [
    {
     "data": {
      "text/plain": [
       "DataFrame[marks: bigint, name: string]"
      ]
     },
     "execution_count": 7,
     "metadata": {},
     "output_type": "execute_result"
    }
   ],
   "source": [
    "schemaPeople"
   ]
  },
  {
   "cell_type": "code",
   "execution_count": 8,
   "metadata": {},
   "outputs": [
    {
     "data": {
      "text/plain": [
       "4"
      ]
     },
     "execution_count": 8,
     "metadata": {},
     "output_type": "execute_result"
    }
   ],
   "source": [
    "schemaPeople.count()"
   ]
  },
  {
   "cell_type": "code",
   "execution_count": 9,
   "metadata": {},
   "outputs": [
    {
     "data": {
      "text/plain": [
       "Row(marks=10, name='John')"
      ]
     },
     "execution_count": 9,
     "metadata": {},
     "output_type": "execute_result"
    }
   ],
   "source": [
    "schemaPeople.first()"
   ]
  },
  {
   "cell_type": "code",
   "execution_count": 10,
   "metadata": {},
   "outputs": [],
   "source": [
    "from pyspark.sql import SparkSession"
   ]
  },
  {
   "cell_type": "code",
   "execution_count": 11,
   "metadata": {},
   "outputs": [],
   "source": [
    "spark = SparkSession(sc)"
   ]
  },
  {
   "cell_type": "code",
   "execution_count": 12,
   "metadata": {},
   "outputs": [
    {
     "name": "stdout",
     "output_type": "stream",
     "text": [
      "+---+---------+--------------+------+-------------+\n",
      "|_c0|person_id|          name|   sex|date of birth|\n",
      "+---+---------+--------------+------+-------------+\n",
      "|  0|      100|Penelope Lewis|female|   1990-08-31|\n",
      "|  1|      101| David Anthony|  male|   1971-10-14|\n",
      "|  2|      102|     Ida Shipp|female|   1962-05-24|\n",
      "|  3|      103|  Joanna Moore|female|   2017-03-10|\n",
      "|  4|      104|Lisandra Ortiz|female|   2020-08-05|\n",
      "+---+---------+--------------+------+-------------+\n",
      "only showing top 5 rows\n",
      "\n"
     ]
    }
   ],
   "source": [
    "file_name = \"hdfs://bigdata.laptrinhpython.net:19000/people.csv\"\n",
    "people = spark.read.csv(file_name, inferSchema = True, header = True)\n",
    "people.show(5)"
   ]
  },
  {
   "cell_type": "code",
   "execution_count": 13,
   "metadata": {},
   "outputs": [
    {
     "name": "stdout",
     "output_type": "stream",
     "text": [
      "+---+---------+-----------------+------+-------------+\n",
      "|_c0|person_id|             name|   sex|date of birth|\n",
      "+---+---------+-----------------+------+-------------+\n",
      "|  0|      100|   Penelope Lewis|female|   1990-08-31|\n",
      "|  1|      101|    David Anthony|  male|   1971-10-14|\n",
      "|  2|      102|        Ida Shipp|female|   1962-05-24|\n",
      "|  3|      103|     Joanna Moore|female|   2017-03-10|\n",
      "|  4|      104|   Lisandra Ortiz|female|   2020-08-05|\n",
      "|  5|      105|    David Simmons|  male|   1999-12-30|\n",
      "|  6|      106|    Edward Hudson|  male|   1983-05-09|\n",
      "|  7|      107|     Albert Jones|  male|   1990-09-13|\n",
      "|  8|      108| Leonard Cavender|  male|   1958-08-08|\n",
      "|  9|      109|   Everett Vadala|  male|   2005-05-24|\n",
      "| 10|      110| Freddie Claridge|  male|   2002-05-07|\n",
      "| 11|      111|Annabelle Rosseau|female|   1989-07-13|\n",
      "| 12|      112|    Eulah Emanuel|female|   1976-01-19|\n",
      "| 13|      113|       Shaun Love|  male|   1970-05-26|\n",
      "| 14|      114|Alejandro Brennan|  male|   1980-12-22|\n",
      "| 15|      115|Robert Mcreynolds|  male|   1973-12-27|\n",
      "| 16|      116|   Carla Spickard|female|   1985-06-13|\n",
      "| 17|      117|Florence Eberhart|female|   2024-06-01|\n",
      "| 18|      118|     Tina Gaskins|female|   1966-12-05|\n",
      "| 19|      119| Florence Mulhern|female|   1959-05-31|\n",
      "+---+---------+-----------------+------+-------------+\n",
      "only showing top 20 rows\n",
      "\n"
     ]
    }
   ],
   "source": [
    "file_name_local = \"Data/people.csv\"\n",
    "people_local = spark.read.csv(file_name_local, inferSchema = True, header = True)\n",
    "people_local.show()"
   ]
  },
  {
   "cell_type": "code",
   "execution_count": 14,
   "metadata": {},
   "outputs": [
    {
     "name": "stdout",
     "output_type": "stream",
     "text": [
      "root\n",
      " |-- _c0: integer (nullable = true)\n",
      " |-- person_id: integer (nullable = true)\n",
      " |-- name: string (nullable = true)\n",
      " |-- sex: string (nullable = true)\n",
      " |-- date of birth: string (nullable = true)\n",
      "\n"
     ]
    }
   ],
   "source": [
    "people_local.printSchema()"
   ]
  },
  {
   "cell_type": "code",
   "execution_count": 15,
   "metadata": {},
   "outputs": [
    {
     "name": "stdout",
     "output_type": "stream",
     "text": [
      "+----------+--------------------+-------------+--------------------+--------------------+-------------------+\n",
      "|        id|            location|sampling_rate|              sensor|    sensordatavalues|          timestamp|\n",
      "+----------+--------------------+-------------+--------------------+--------------------+-------------------+\n",
      "|5810744647|[112.6, FR, 0, 11...|         null|[22349, 1, [14, N...|[[12340422762, 1....|2019-12-20 03:22:01|\n",
      "|5810744646|[35.2, DE, 0, 107...|         null|[21149, 7, [9, va...|[[12340422760, 9....|2019-12-20 03:22:01|\n",
      "|5810744645|[51.0, DE, 0, 293...|         null|[5811, 1, [14, No...|[[12340422757, 6....|2019-12-20 03:22:01|\n",
      "|5810744644|[34.4, BE, 0, 441...|         null|[8765, 1, [14, No...|[[12340422756, 3....|2019-12-20 03:22:01|\n",
      "|5810744643|[5.0, FR, 0, 1100...|         null|[21693, 1, [14, N...|[[12340422754, 7....|2019-12-20 03:22:01|\n",
      "+----------+--------------------+-------------+--------------------+--------------------+-------------------+\n",
      "only showing top 5 rows\n",
      "\n"
     ]
    }
   ],
   "source": [
    "file_name1 = \"hdfs://bigdata.laptrinhpython.net:19000/data.json\"\n",
    "peopleJson = spark.read.json(file_name1)\n",
    "peopleJson.show(5)"
   ]
  },
  {
   "cell_type": "code",
   "execution_count": 16,
   "metadata": {},
   "outputs": [
    {
     "name": "stdout",
     "output_type": "stream",
     "text": [
      "root\n",
      " |-- id: long (nullable = true)\n",
      " |-- location: struct (nullable = true)\n",
      " |    |-- altitude: string (nullable = true)\n",
      " |    |-- country: string (nullable = true)\n",
      " |    |-- exact_location: long (nullable = true)\n",
      " |    |-- id: long (nullable = true)\n",
      " |    |-- indoor: long (nullable = true)\n",
      " |    |-- latitude: string (nullable = true)\n",
      " |    |-- longitude: string (nullable = true)\n",
      " |-- sampling_rate: string (nullable = true)\n",
      " |-- sensor: struct (nullable = true)\n",
      " |    |-- id: long (nullable = true)\n",
      " |    |-- pin: string (nullable = true)\n",
      " |    |-- sensor_type: struct (nullable = true)\n",
      " |    |    |-- id: long (nullable = true)\n",
      " |    |    |-- manufacturer: string (nullable = true)\n",
      " |    |    |-- name: string (nullable = true)\n",
      " |-- sensordatavalues: array (nullable = true)\n",
      " |    |-- element: struct (containsNull = true)\n",
      " |    |    |-- id: long (nullable = true)\n",
      " |    |    |-- value: string (nullable = true)\n",
      " |    |    |-- value_type: string (nullable = true)\n",
      " |-- timestamp: string (nullable = true)\n",
      "\n"
     ]
    }
   ],
   "source": [
    "peopleJson.printSchema()"
   ]
  },
  {
   "cell_type": "code",
   "execution_count": 17,
   "metadata": {},
   "outputs": [
    {
     "name": "stdout",
     "output_type": "stream",
     "text": [
      "+---+------+------+------+----+---+----+----+-----+-----+-----+\n",
      "| id|gender|height|weight| bmi|age| bmc| bmd|  fat| lean|pcfat|\n",
      "+---+------+------+------+----+---+----+----+-----+-----+-----+\n",
      "|  1|     F|   150|    49|21.8| 53|1312|0.88|17802|28600| 37.3|\n",
      "|  2|     M|   165|    52|19.1| 65|1309|0.84| 8381|40229| 16.8|\n",
      "|  3|     F|   157|    57|23.1| 64|1230|0.84|19221|36057| 34.0|\n",
      "|  4|     F|   156|    53|21.8| 56|1171| 0.8|17472|33094| 33.8|\n",
      "|  5|     M|   160|    51|19.9| 54|1681|0.98| 7336|40621| 14.8|\n",
      "+---+------+------+------+----+---+----+----+-----+-----+-----+\n",
      "only showing top 5 rows\n",
      "\n"
     ]
    }
   ],
   "source": [
    "file_name2 = \"Data/Obesity_data.csv\"\n",
    "obesity_data = spark.read.csv(file_name2, inferSchema = True, header = True)\n",
    "obesity_data.show(5)"
   ]
  },
  {
   "cell_type": "code",
   "execution_count": 18,
   "metadata": {},
   "outputs": [
    {
     "name": "stdout",
     "output_type": "stream",
     "text": [
      "root\n",
      " |-- id: integer (nullable = true)\n",
      " |-- gender: string (nullable = true)\n",
      " |-- height: integer (nullable = true)\n",
      " |-- weight: integer (nullable = true)\n",
      " |-- bmi: double (nullable = true)\n",
      " |-- age: integer (nullable = true)\n",
      " |-- bmc: integer (nullable = true)\n",
      " |-- bmd: double (nullable = true)\n",
      " |-- fat: integer (nullable = true)\n",
      " |-- lean: integer (nullable = true)\n",
      " |-- pcfat: double (nullable = true)\n",
      "\n"
     ]
    }
   ],
   "source": [
    "obesity_data.printSchema()"
   ]
  },
  {
   "cell_type": "code",
   "execution_count": 19,
   "metadata": {},
   "outputs": [
    {
     "data": {
      "text/plain": [
       "1217"
      ]
     },
     "execution_count": 19,
     "metadata": {},
     "output_type": "execute_result"
    }
   ],
   "source": [
    "obesity_data.count()"
   ]
  },
  {
   "cell_type": "code",
   "execution_count": 20,
   "metadata": {},
   "outputs": [
    {
     "data": {
      "text/plain": [
       "35654"
      ]
     },
     "execution_count": 20,
     "metadata": {},
     "output_type": "execute_result"
    }
   ],
   "source": [
    "peopleJson.count()"
   ]
  },
  {
   "cell_type": "code",
   "execution_count": 21,
   "metadata": {},
   "outputs": [
    {
     "data": {
      "text/plain": [
       "100000"
      ]
     },
     "execution_count": 21,
     "metadata": {},
     "output_type": "execute_result"
    }
   ],
   "source": [
    "people_local.count()"
   ]
  },
  {
   "cell_type": "code",
   "execution_count": 22,
   "metadata": {},
   "outputs": [
    {
     "name": "stdout",
     "output_type": "stream",
     "text": [
      "+-------+-----------------+------+------------------+-----------------+------------------+-----------------+------------------+------------------+------------------+-----------------+------------------+\n",
      "|summary|               id|gender|            height|           weight|               bmi|              age|               bmc|               bmd|               fat|             lean|             pcfat|\n",
      "+-------+-----------------+------+------------------+-----------------+------------------+-----------------+------------------+------------------+------------------+-----------------+------------------+\n",
      "|  count|             1217|  1217|              1217|             1217|              1217|             1217|              1217|              1217|              1217|             1217|              1217|\n",
      "|   mean| 614.518488085456|  null| 156.7239112571898|55.14379622021364| 22.39539852095314|47.15201314708299|1724.9145439605588|1.0087428101889888|17288.436318816763| 35463.1133935908|31.604785903401805|\n",
      "| stddev|354.4705719473191|  null|7.9777256820417035|9.404988688010084|3.0564419447471356|17.27550739904804| 363.3490251436472|0.1131224610778956| 5214.398664940806|7027.546493084218| 7.182861527055848|\n",
      "|    min|                1|     F|               136|               34|              14.5|               13|               695|              0.65|              4277|            19136|               9.2|\n",
      "|    max|             1227|     M|               185|               95|              37.1|               88|              3040|              1.35|             40825|            63059|              48.4|\n",
      "+-------+-----------------+------+------------------+-----------------+------------------+-----------------+------------------+------------------+------------------+-----------------+------------------+\n",
      "\n"
     ]
    }
   ],
   "source": [
    "obesity_data.describe().show()"
   ]
  },
  {
   "cell_type": "code",
   "execution_count": 23,
   "metadata": {},
   "outputs": [
    {
     "name": "stdout",
     "output_type": "stream",
     "text": [
      "+-------+------------------+-----------------+\n",
      "|summary|            height|           weight|\n",
      "+-------+------------------+-----------------+\n",
      "|  count|              1217|             1217|\n",
      "|   mean| 156.7239112571898|55.14379622021364|\n",
      "| stddev|7.9777256820417035|9.404988688010084|\n",
      "|    min|               136|               34|\n",
      "|    max|               185|               95|\n",
      "+-------+------------------+-----------------+\n",
      "\n"
     ]
    }
   ],
   "source": [
    "obesity_data.describe(\"height\",\"weight\").show()"
   ]
  },
  {
   "cell_type": "code",
   "execution_count": 24,
   "metadata": {},
   "outputs": [
    {
     "name": "stdout",
     "output_type": "stream",
     "text": [
      "+-------------+---+---+\n",
      "|height_gender|  F|  M|\n",
      "+-------------+---+---+\n",
      "|          138|  2|  0|\n",
      "|          170|  1| 24|\n",
      "|          142| 11|  0|\n",
      "|          153| 73|  1|\n",
      "|          174|  0|  2|\n",
      "|          185|  0|  1|\n",
      "|          157| 31|  5|\n",
      "|          152| 54|  2|\n",
      "|          164| 11| 17|\n",
      "|          179|  0|  1|\n",
      "|          147| 18|  0|\n",
      "|          160| 45| 33|\n",
      "|          137|  1|  0|\n",
      "|          165| 10| 37|\n",
      "|          156| 45|  6|\n",
      "|          169|  1| 11|\n",
      "|          141|  6|  0|\n",
      "|          173|  0|  8|\n",
      "|          166|  0| 13|\n",
      "|          148| 35|  3|\n",
      "+-------------+---+---+\n",
      "only showing top 20 rows\n",
      "\n"
     ]
    }
   ],
   "source": [
    "#crosstab\n",
    "obesity_data.crosstab(\"height\", \"gender\").show()"
   ]
  },
  {
   "cell_type": "code",
   "execution_count": 25,
   "metadata": {},
   "outputs": [
    {
     "name": "stdout",
     "output_type": "stream",
     "text": [
      "+------+-----------------+\n",
      "|gender|      avg(weight)|\n",
      "+------+-----------------+\n",
      "|     F|52.31090487238979|\n",
      "|     M|62.02253521126761|\n",
      "+------+-----------------+\n",
      "\n"
     ]
    }
   ],
   "source": [
    "#groupby\n",
    "obesity_data.groupby('gender').mean('weight').show()"
   ]
  },
  {
   "cell_type": "code",
   "execution_count": 26,
   "metadata": {},
   "outputs": [
    {
     "name": "stdout",
     "output_type": "stream",
     "text": [
      "+------+------------------+\n",
      "|gender|       avg(height)|\n",
      "+------+------------------+\n",
      "|     F|153.29118329466357|\n",
      "|     M|165.05915492957746|\n",
      "+------+------------------+\n",
      "\n"
     ]
    }
   ],
   "source": [
    "#groupby\n",
    "obesity_data.groupby('gender').mean('height').show()"
   ]
  },
  {
   "cell_type": "code",
   "execution_count": 27,
   "metadata": {},
   "outputs": [
    {
     "name": "stdout",
     "output_type": "stream",
     "text": [
      "+------+-----+\n",
      "|gender|count|\n",
      "+------+-----+\n",
      "|     F|  862|\n",
      "|     M|  355|\n",
      "+------+-----+\n",
      "\n"
     ]
    }
   ],
   "source": [
    "obesity_data.groupby('gender').count().show()"
   ]
  },
  {
   "cell_type": "code",
   "execution_count": 28,
   "metadata": {},
   "outputs": [
    {
     "name": "stdout",
     "output_type": "stream",
     "text": [
      "+------+-----------------+\n",
      "|gender|      avg(weight)|\n",
      "+------+-----------------+\n",
      "|     F|52.31090487238979|\n",
      "|     M|62.02253521126761|\n",
      "+------+-----------------+\n",
      "\n"
     ]
    }
   ],
   "source": [
    "#agg thuc hien nhom| gan 1 hoac nhieu yeu to\n",
    "obesity_data.groupby('gender').agg({'weight': 'mean'}).show()"
   ]
  },
  {
   "cell_type": "code",
   "execution_count": 29,
   "metadata": {},
   "outputs": [
    {
     "name": "stdout",
     "output_type": "stream",
     "text": [
      "+------+------------------+\n",
      "|gender|       avg(height)|\n",
      "+------+------------------+\n",
      "|     F|153.29118329466357|\n",
      "|     M|165.05915492957746|\n",
      "+------+------------------+\n",
      "\n"
     ]
    }
   ],
   "source": [
    "# chieu cao trung binh theo gioi tinh\n",
    "obesity_data.groupby('gender').agg({'height': 'mean'}).show()"
   ]
  },
  {
   "cell_type": "code",
   "execution_count": 30,
   "metadata": {},
   "outputs": [
    {
     "name": "stdout",
     "output_type": "stream",
     "text": [
      "+------+-----------+-----------+\n",
      "|gender|min(weight)|min(height)|\n",
      "+------+-----------+-----------+\n",
      "|     F|         34|        136|\n",
      "|     M|         38|        146|\n",
      "+------+-----------+-----------+\n",
      "\n"
     ]
    }
   ],
   "source": [
    "obesity_data.groupby('gender').agg({'height': 'min', 'weight': 'min'}).show()"
   ]
  },
  {
   "cell_type": "code",
   "execution_count": 31,
   "metadata": {},
   "outputs": [
    {
     "name": "stdout",
     "output_type": "stream",
     "text": [
      "+---+------+------+------+\n",
      "| id|gender|height|weight|\n",
      "+---+------+------+------+\n",
      "|  1|     F|   150|    49|\n",
      "|  2|     M|   165|    52|\n",
      "|  3|     F|   157|    57|\n",
      "|  4|     F|   156|    53|\n",
      "|  5|     M|   160|    51|\n",
      "|  6|     F|   153|    47|\n",
      "|  7|     F|   155|    58|\n",
      "|  8|     M|   167|    65|\n",
      "|  9|     M|   165|    54|\n",
      "| 10|     F|   158|    60|\n",
      "| 11|     F|   155|    48|\n",
      "| 12|     M|   165|    65|\n",
      "| 13|     F|   155|    40|\n",
      "| 14|     M|   158|    57|\n",
      "| 15|     F|   154|    59|\n",
      "| 16|     M|   150|    70|\n",
      "| 17|     F|   150|    50|\n",
      "| 18|     M|   158|    65|\n",
      "| 19|     M|   162|    72|\n",
      "| 20|     M|   161|    55|\n",
      "+---+------+------+------+\n",
      "only showing top 20 rows\n",
      "\n"
     ]
    }
   ],
   "source": [
    "# Tao sub DataFrame\n",
    "\n",
    "df_sub = obesity_data.select('id', 'gender', 'height', 'weight')\n",
    "df_sub.show()"
   ]
  },
  {
   "cell_type": "code",
   "execution_count": 32,
   "metadata": {},
   "outputs": [
    {
     "data": {
      "text/plain": [
       "55"
      ]
     },
     "execution_count": 32,
     "metadata": {},
     "output_type": "execute_result"
    }
   ],
   "source": [
    "obesity_data.select('weight').distinct().count()"
   ]
  },
  {
   "cell_type": "code",
   "execution_count": 33,
   "metadata": {},
   "outputs": [
    {
     "data": {
      "text/plain": [
       "48"
      ]
     },
     "execution_count": 33,
     "metadata": {},
     "output_type": "execute_result"
    }
   ],
   "source": [
    "obesity_data.select('height').distinct().count()"
   ]
  },
  {
   "cell_type": "code",
   "execution_count": 34,
   "metadata": {},
   "outputs": [
    {
     "name": "stdout",
     "output_type": "stream",
     "text": [
      "+------+\n",
      "|gender|\n",
      "+------+\n",
      "|     F|\n",
      "|     M|\n",
      "+------+\n",
      "\n"
     ]
    }
   ],
   "source": [
    "obesity_data.select('gender').distinct().show()"
   ]
  },
  {
   "cell_type": "code",
   "execution_count": 35,
   "metadata": {},
   "outputs": [
    {
     "name": "stdout",
     "output_type": "stream",
     "text": [
      "+----+------+------+------+----+---+----+----+-----+-----+-----------+\n",
      "|  id|gender|height|weight| bmi|age| bmc| bmd|  fat| lean|      pcfat|\n",
      "+----+------+------+------+----+---+----+----+-----+-----+-----------+\n",
      "| 963|     M|   158|    61|24.4| 88|1670|1.02|18038|39526|       30.5|\n",
      "| 712|     M|   161|    47|18.1| 87|1678|1.01|12328|32725|       26.4|\n",
      "| 588|     F|   142|    46|22.8| 85| 875|0.68|13946|31026|       30.4|\n",
      "|1189|     M|   168|    64|22.7| 85|2292|1.23|16478|42085|       27.1|\n",
      "|1203|     F|   152|    40|17.3| 85| 819|0.74|10903|25230|       29.5|\n",
      "|  14|     M|   158|    57|22.8| 84|1772|1.02|13398|40313|       24.1|\n",
      "|1167|     F|   148|    57|26.0| 84|1583|0.99|21002|35060|       36.4|\n",
      "| 360|     M|   158|    58|23.2| 84|1891|1.06|15590|38924|       27.6|\n",
      "| 816|     M|   162|    59|22.5| 84|2370|1.22|15149|39330|       26.6|\n",
      "| 765|     F|   153|    62|26.5| 84|1397|0.87|23407|36596|       38.1|\n",
      "|1162|     M|   162|    60|22.9| 83|1641|0.94|16265|40811|       27.7|\n",
      "|1109|     F|   145|    50|23.8| 83|1203|0.89|21124|29385|       40.8|\n",
      "|  34|     F|   143|    38|18.6| 82| 827|0.66|15101|21856|       40.0|\n",
      "|  27|     F|   155|    55|22.9| 82|1106|0.76|20108|32840|       37.2|\n",
      "|  71|     M|   160|    45|17.6| 82|1322| 0.9|10937|30792|24.30444444|\n",
      "| 294|     F|   143|    50|24.5| 82|1190|0.85|20490|28360|       40.9|\n",
      "|1018|     F|   165|    54|19.8| 82|2120|1.13|13697|37940|       25.5|\n",
      "| 429|     M|   165|    68|25.0| 81|1831|1.07|20185|45621|       29.8|\n",
      "| 565|     F|   144|    41|19.8| 81|1188|0.91|13427|25679|       33.3|\n",
      "| 298|     F|   153|    52|22.2| 80|1226|0.86|17826|26171|       39.4|\n",
      "+----+------+------+------+----+---+----+----+-----+-----+-----------+\n",
      "only showing top 20 rows\n",
      "\n"
     ]
    }
   ],
   "source": [
    "# Sap xep du lieu\n",
    "obesity_data.orderBy(obesity_data.age.desc()).show()"
   ]
  },
  {
   "cell_type": "code",
   "execution_count": 36,
   "metadata": {},
   "outputs": [
    {
     "name": "stdout",
     "output_type": "stream",
     "text": [
      "+----+------+------+------+----+---+----+----+-----+-----+-----+\n",
      "|  id|gender|height|weight| bmi|age| bmc| bmd|  fat| lean|pcfat|\n",
      "+----+------+------+------+----+---+----+----+-----+-----+-----+\n",
      "| 931|     F|   160|    95|37.1| 57|2139|1.17|40825|50788| 43.5|\n",
      "| 377|     F|   153|    85|36.3| 61|1414|0.87|40196|43110| 47.4|\n",
      "| 362|     F|   150|    80|35.6| 54|1680|0.98|32442|44670| 41.2|\n",
      "| 381|     M|   148|    76|34.7| 40|2395|1.12|20187|52455| 26.9|\n",
      "|1081|     F|   142|    70|34.7| 56|1446|0.99|32420|33550| 48.1|\n",
      "|1035|     F|   152|    75|32.5| 54|1805|1.05|28865|41866| 39.8|\n",
      "| 898|     M|   172|    95|32.1| 41|2409| 1.1|28220|63059| 30.1|\n",
      "|1168|     F|   143|    65|31.8| 70|1439|0.88|28224|35008| 43.6|\n",
      "|  16|     M|   150|    70|31.1| 49|2084| 1.0|16540|49512| 24.3|\n",
      "|1148|     F|   153|    72|30.8| 52|1975|1.12|31274|38461| 43.6|\n",
      "| 567|     F|   167|    85|30.5| 21|2663|1.19|29673|52982| 34.8|\n",
      "| 232|     F|   146|    65|30.5| 47|1736|1.07|25734|36949| 39.9|\n",
      "|1051|     F|   153|    71|30.3| 57|1831|1.06|27181|41875| 38.3|\n",
      "| 988|     F|   150|    68|30.2| 69|1189|0.79|22360|35821| 37.7|\n",
      "| 929|     M|   165|    82|30.1| 18|2236|1.07|26197|52518| 32.4|\n",
      "| 238|     F|   142|    60|29.8| 70|1135|0.81|27508|30301| 46.7|\n",
      "| 113|     F|   156|    72|29.6| 64|1920|1.12|31926|38161| 44.3|\n",
      "| 315|     M|   157|    73|29.6| 34|2540| 1.2|23414|46376| 32.4|\n",
      "| 344|     F|   146|    63|29.6| 45|1640|1.03|31949|33710| 47.5|\n",
      "| 330|     F|   156|    72|29.6| 43|1738|1.03|24658|44748| 34.7|\n",
      "+----+------+------+------+----+---+----+----+-----+-----+-----+\n",
      "only showing top 20 rows\n",
      "\n"
     ]
    }
   ],
   "source": [
    "obesity_data.orderBy(obesity_data.bmi.desc()).show()"
   ]
  },
  {
   "cell_type": "code",
   "execution_count": 37,
   "metadata": {},
   "outputs": [
    {
     "name": "stdout",
     "output_type": "stream",
     "text": [
      "+----+------+------+------+----+---+----+----+-----+-----+-----------+\n",
      "|  id|gender|height|weight| bmi|age| bmc| bmd|  fat| lean|      pcfat|\n",
      "+----+------+------+------+----+---+----+----+-----+-----+-----------+\n",
      "| 963|     M|   158|    61|24.4| 88|1670|1.02|18038|39526|       30.5|\n",
      "| 712|     M|   161|    47|18.1| 87|1678|1.01|12328|32725|       26.4|\n",
      "| 588|     F|   142|    46|22.8| 85| 875|0.68|13946|31026|       30.4|\n",
      "|1189|     M|   168|    64|22.7| 85|2292|1.23|16478|42085|       27.1|\n",
      "|1203|     F|   152|    40|17.3| 85| 819|0.74|10903|25230|       29.5|\n",
      "| 765|     F|   153|    62|26.5| 84|1397|0.87|23407|36596|       38.1|\n",
      "|1167|     F|   148|    57|26.0| 84|1583|0.99|21002|35060|       36.4|\n",
      "| 360|     M|   158|    58|23.2| 84|1891|1.06|15590|38924|       27.6|\n",
      "|  14|     M|   158|    57|22.8| 84|1772|1.02|13398|40313|       24.1|\n",
      "| 816|     M|   162|    59|22.5| 84|2370|1.22|15149|39330|       26.6|\n",
      "|1109|     F|   145|    50|23.8| 83|1203|0.89|21124|29385|       40.8|\n",
      "|1162|     M|   162|    60|22.9| 83|1641|0.94|16265|40811|       27.7|\n",
      "| 294|     F|   143|    50|24.5| 82|1190|0.85|20490|28360|       40.9|\n",
      "|  27|     F|   155|    55|22.9| 82|1106|0.76|20108|32840|       37.2|\n",
      "|1018|     F|   165|    54|19.8| 82|2120|1.13|13697|37940|       25.5|\n",
      "|  34|     F|   143|    38|18.6| 82| 827|0.66|15101|21856|       40.0|\n",
      "|  71|     M|   160|    45|17.6| 82|1322| 0.9|10937|30792|24.30444444|\n",
      "| 429|     M|   165|    68|25.0| 81|1831|1.07|20185|45621|       29.8|\n",
      "| 565|     F|   144|    41|19.8| 81|1188|0.91|13427|25679|       33.3|\n",
      "|1057|     F|   151|    64|28.1| 80|1516|0.96|29924|33593|       46.0|\n",
      "+----+------+------+------+----+---+----+----+-----+-----+-----------+\n",
      "only showing top 20 rows\n",
      "\n"
     ]
    }
   ],
   "source": [
    "obesity_data.orderBy(obesity_data.age.desc(),obesity_data.bmi.desc()).show()"
   ]
  },
  {
   "cell_type": "code",
   "execution_count": 38,
   "metadata": {},
   "outputs": [
    {
     "name": "stdout",
     "output_type": "stream",
     "text": [
      "+---+------+------+------+------------------+\n",
      "| id|gender|height|weight|               bmi|\n",
      "+---+------+------+------+------------------+\n",
      "|  1|     F|   150|    49|204.08163265306123|\n",
      "|  2|     M|   165|    52| 192.3076923076923|\n",
      "|  3|     F|   157|    57|175.43859649122808|\n",
      "|  4|     F|   156|    53|188.67924528301884|\n",
      "|  5|     M|   160|    51|196.07843137254903|\n",
      "+---+------+------+------+------------------+\n",
      "only showing top 5 rows\n",
      "\n"
     ]
    }
   ],
   "source": [
    "#Tao cot moi\n",
    "df_sub.withColumn('bmi', (df_sub.weight/(df_sub.weight/100) **2)).show(5)"
   ]
  },
  {
   "cell_type": "code",
   "execution_count": 39,
   "metadata": {},
   "outputs": [
    {
     "name": "stdout",
     "output_type": "stream",
     "text": [
      "+---+---+------+------+\n",
      "| id|sex|height|weight|\n",
      "+---+---+------+------+\n",
      "|  1|  F|   150|    49|\n",
      "|  2|  M|   165|    52|\n",
      "|  3|  F|   157|    57|\n",
      "+---+---+------+------+\n",
      "only showing top 3 rows\n",
      "\n"
     ]
    }
   ],
   "source": [
    "# Doi ten cot\n",
    "df_sub.withColumnRenamed('gender', 'sex').show(3)"
   ]
  },
  {
   "cell_type": "code",
   "execution_count": 40,
   "metadata": {},
   "outputs": [
    {
     "data": {
      "text/plain": [
       "['id', 'gender', 'height', 'weight']"
      ]
     },
     "execution_count": 40,
     "metadata": {},
     "output_type": "execute_result"
    }
   ],
   "source": [
    "df_sub.columns"
   ]
  },
  {
   "cell_type": "code",
   "execution_count": 41,
   "metadata": {},
   "outputs": [
    {
     "name": "stdout",
     "output_type": "stream",
     "text": [
      "+---+------+------+------+\n",
      "| id|gender|height|weight|\n",
      "+---+------+------+------+\n",
      "|  1|     F|   150|    49|\n",
      "|  2|     M|   165|    52|\n",
      "+---+------+------+------+\n",
      "only showing top 2 rows\n",
      "\n"
     ]
    }
   ],
   "source": [
    "df_sub.drop('bmi').show(2)"
   ]
  },
  {
   "cell_type": "code",
   "execution_count": 42,
   "metadata": {},
   "outputs": [
    {
     "data": {
      "text/plain": [
       "100000"
      ]
     },
     "execution_count": 42,
     "metadata": {},
     "output_type": "execute_result"
    }
   ],
   "source": [
    "people.count()"
   ]
  },
  {
   "cell_type": "code",
   "execution_count": 43,
   "metadata": {},
   "outputs": [
    {
     "data": {
      "text/plain": [
       "DataFrame[_c0: int, person_id: int, name: string, sex: string, date of birth: string]"
      ]
     },
     "execution_count": 43,
     "metadata": {},
     "output_type": "execute_result"
    }
   ],
   "source": [
    "people.dropDuplicates()"
   ]
  },
  {
   "cell_type": "code",
   "execution_count": 44,
   "metadata": {},
   "outputs": [
    {
     "data": {
      "text/plain": [
       "100000"
      ]
     },
     "execution_count": 44,
     "metadata": {},
     "output_type": "execute_result"
    }
   ],
   "source": [
    "people.count()"
   ]
  },
  {
   "cell_type": "code",
   "execution_count": 45,
   "metadata": {},
   "outputs": [
    {
     "data": {
      "text/plain": [
       "98080"
      ]
     },
     "execution_count": 45,
     "metadata": {},
     "output_type": "execute_result"
    }
   ],
   "source": [
    "people.dropna().count()"
   ]
  },
  {
   "cell_type": "code",
   "execution_count": 46,
   "metadata": {},
   "outputs": [
    {
     "name": "stdout",
     "output_type": "stream",
     "text": [
      "+-----+---------+-------------+------+-------------+\n",
      "|  _c0|person_id|         name|   sex|date of birth|\n",
      "+-----+---------+-------------+------+-------------+\n",
      "|    2|      102|    Ida Shipp|female|   1962-05-24|\n",
      "| 5791|     5891| Isaias Stepp|  male|   1974-04-13|\n",
      "| 9965|    10065| Isabel Sharp|female|   1967-11-28|\n",
      "|58576|    58676|Isadora Tripp|female|   1971-06-05|\n",
      "|68125|    68225|   Irene Kulp|female|   1986-07-06|\n",
      "|71572|    71672|    Ivan Ropp|  male|   1975-07-08|\n",
      "|92061|    92161|   Inez Estep|female|   1925-09-03|\n",
      "+-----+---------+-------------+------+-------------+\n",
      "\n"
     ]
    }
   ],
   "source": [
    "#Loc dlieu\n",
    "# filter, where\n",
    "people_sub = people.filter(people.name.like(\"I%p\"))\n",
    "people_sub.show()\n",
    "\n"
   ]
  },
  {
   "cell_type": "code",
   "execution_count": 47,
   "metadata": {},
   "outputs": [
    {
     "data": {
      "text/plain": [
       "7"
      ]
     },
     "execution_count": 47,
     "metadata": {},
     "output_type": "execute_result"
    }
   ],
   "source": [
    "people_sub.count()"
   ]
  },
  {
   "cell_type": "code",
   "execution_count": 48,
   "metadata": {},
   "outputs": [
    {
     "data": {
      "text/plain": [
       "352"
      ]
     },
     "execution_count": 48,
     "metadata": {},
     "output_type": "execute_result"
    }
   ],
   "source": [
    "people_where = people.where(people.name.contains('Moore'))\n",
    "people_where.count()"
   ]
  },
  {
   "cell_type": "code",
   "execution_count": 49,
   "metadata": {},
   "outputs": [
    {
     "name": "stdout",
     "output_type": "stream",
     "text": [
      "+----+---------+--------------+------+-------------+\n",
      "| _c0|person_id|          name|   sex|date of birth|\n",
      "+----+---------+--------------+------+-------------+\n",
      "|   3|      103|  Joanna Moore|female|   2017-03-10|\n",
      "| 430|      530| Richard Moore|  male|   1989-05-11|\n",
      "| 484|      584|    Mary Moore|female|   1979-05-15|\n",
      "| 528|      628|    Rose Moore|female|   1975-05-02|\n",
      "| 659|      759|Nicholas Moore|  male|   1981-10-10|\n",
      "|1163|     1263| Russell Moore|  male|   1991-12-08|\n",
      "|1410|     1510|   Doris Moore|female|   1969-12-23|\n",
      "|1463|     1563|  Claire Moore|female|  20175-02-28|\n",
      "|1895|     1995|  George Moore|  male|   1974-01-10|\n",
      "|2213|     2313|    Earl Moore|  male|   2003-05-08|\n",
      "|2467|     2567|  Cheryl Moore|female|   1998-09-28|\n",
      "|2652|     2752|  Sergio Moore|  null|   1972-06-24|\n",
      "|2787|     2887| Darrell Moore|  male|   1986-09-04|\n",
      "|3226|     3326| Marissa Moore|female|   2005-04-14|\n",
      "|3524|     3624|   Jaime Moore|  male|   2011-02-28|\n",
      "|3632|     3732|     Eva Moore|female|   1978-06-16|\n",
      "|3868|     3968|    Toni Moore|female|   1998-09-28|\n",
      "|4476|     4576|  Thomas Moore|  male|   1969-09-09|\n",
      "|4647|     4747|Florence Moore|female|   2002-03-05|\n",
      "|4652|     4752|    Emma Moore|female|   1987-06-19|\n",
      "+----+---------+--------------+------+-------------+\n",
      "only showing top 20 rows\n",
      "\n"
     ]
    }
   ],
   "source": [
    "people_where.show()"
   ]
  },
  {
   "cell_type": "code",
   "execution_count": 50,
   "metadata": {},
   "outputs": [
    {
     "data": {
      "text/plain": [
       "99648"
      ]
     },
     "execution_count": 50,
     "metadata": {},
     "output_type": "execute_result"
    }
   ],
   "source": [
    "people_where_not = people.where(~people.name.contains('Moore'))\n",
    "people_where_not.count()"
   ]
  },
  {
   "cell_type": "code",
   "execution_count": 51,
   "metadata": {},
   "outputs": [
    {
     "name": "stdout",
     "output_type": "stream",
     "text": [
      "+---+---------+-----------------+------+-------------+\n",
      "|_c0|person_id|             name|   sex|date of birth|\n",
      "+---+---------+-----------------+------+-------------+\n",
      "|  0|      100|   Penelope Lewis|female|   1990-08-31|\n",
      "|  1|      101|    David Anthony|  male|   1971-10-14|\n",
      "|  2|      102|        Ida Shipp|female|   1962-05-24|\n",
      "|  4|      104|   Lisandra Ortiz|female|   2020-08-05|\n",
      "|  5|      105|    David Simmons|  male|   1999-12-30|\n",
      "|  6|      106|    Edward Hudson|  male|   1983-05-09|\n",
      "|  7|      107|     Albert Jones|  male|   1990-09-13|\n",
      "|  8|      108| Leonard Cavender|  male|   1958-08-08|\n",
      "|  9|      109|   Everett Vadala|  male|   2005-05-24|\n",
      "| 10|      110| Freddie Claridge|  male|   2002-05-07|\n",
      "| 11|      111|Annabelle Rosseau|female|   1989-07-13|\n",
      "| 12|      112|    Eulah Emanuel|female|   1976-01-19|\n",
      "| 13|      113|       Shaun Love|  male|   1970-05-26|\n",
      "| 14|      114|Alejandro Brennan|  male|   1980-12-22|\n",
      "| 15|      115|Robert Mcreynolds|  male|   1973-12-27|\n",
      "| 16|      116|   Carla Spickard|female|   1985-06-13|\n",
      "| 17|      117|Florence Eberhart|female|   2024-06-01|\n",
      "| 18|      118|     Tina Gaskins|female|   1966-12-05|\n",
      "| 19|      119| Florence Mulhern|female|   1959-05-31|\n",
      "| 20|      120|       Joel Smith|  male|   1996-08-13|\n",
      "+---+---------+-----------------+------+-------------+\n",
      "only showing top 20 rows\n",
      "\n"
     ]
    }
   ],
   "source": [
    "people_where_not.show()"
   ]
  },
  {
   "cell_type": "code",
   "execution_count": 52,
   "metadata": {},
   "outputs": [
    {
     "name": "stdout",
     "output_type": "stream",
     "text": [
      "+---+---------+--------------+------+-------------+\n",
      "|_c0|person_id|          name|   sex|date of birth|\n",
      "+---+---------+--------------+------+-------------+\n",
      "|  0|      100|Penelope Lewis|female|   1990-08-31|\n",
      "+---+---------+--------------+------+-------------+\n",
      "\n"
     ]
    }
   ],
   "source": [
    "people_where_id = people.where(people.person_id == 100)\n",
    "people_where_id.show()"
   ]
  },
  {
   "cell_type": "code",
   "execution_count": 53,
   "metadata": {},
   "outputs": [
    {
     "data": {
      "text/plain": [
       "1366"
      ]
     },
     "execution_count": 53,
     "metadata": {},
     "output_type": "execute_result"
    }
   ],
   "source": [
    "people_filtermore = people.filter((people['date of birth'] >= '1999-01-01') & (people['date of birth'] <= '1999-12-31'))\n",
    "people_filtermore.count()"
   ]
  },
  {
   "cell_type": "code",
   "execution_count": 54,
   "metadata": {},
   "outputs": [],
   "source": [
    "from pyspark.sql.functions import *"
   ]
  },
  {
   "cell_type": "code",
   "execution_count": 55,
   "metadata": {},
   "outputs": [
    {
     "name": "stdout",
     "output_type": "stream",
     "text": [
      "+---+---------+--------------+------+-------------+--------------+\n",
      "|_c0|person_id|          name|   sex|date of birth|    upper_name|\n",
      "+---+---------+--------------+------+-------------+--------------+\n",
      "|  0|      100|Penelope Lewis|female|   1990-08-31|PENELOPE LEWIS|\n",
      "|  1|      101| David Anthony|  male|   1971-10-14| DAVID ANTHONY|\n",
      "|  2|      102|     Ida Shipp|female|   1962-05-24|     IDA SHIPP|\n",
      "+---+---------+--------------+------+-------------+--------------+\n",
      "only showing top 3 rows\n",
      "\n"
     ]
    }
   ],
   "source": [
    "people.withColumn('upper_name', upper(col('name'))).show(3)"
   ]
  },
  {
   "cell_type": "code",
   "execution_count": 56,
   "metadata": {},
   "outputs": [],
   "source": [
    "from pyspark.sql.types import *"
   ]
  },
  {
   "cell_type": "code",
   "execution_count": 57,
   "metadata": {},
   "outputs": [],
   "source": [
    "# chuyen doi kieu du lieu\n",
    "people_year = people.withColumn('year', substring('date of birth', pos=0, len=4).cast(IntegerType()))"
   ]
  },
  {
   "cell_type": "code",
   "execution_count": 58,
   "metadata": {},
   "outputs": [
    {
     "name": "stdout",
     "output_type": "stream",
     "text": [
      "root\n",
      " |-- _c0: integer (nullable = true)\n",
      " |-- person_id: integer (nullable = true)\n",
      " |-- name: string (nullable = true)\n",
      " |-- sex: string (nullable = true)\n",
      " |-- date of birth: string (nullable = true)\n",
      " |-- year: integer (nullable = true)\n",
      "\n"
     ]
    }
   ],
   "source": [
    "people_year.printSchema()"
   ]
  },
  {
   "cell_type": "code",
   "execution_count": 59,
   "metadata": {},
   "outputs": [
    {
     "name": "stdout",
     "output_type": "stream",
     "text": [
      "+------+--------------------------------------------------+\n",
      "|height|CASE WHEN (height <= 150) THEN Short ELSE Tall END|\n",
      "+------+--------------------------------------------------+\n",
      "|   150|                                             Short|\n",
      "|   165|                                              Tall|\n",
      "|   157|                                              Tall|\n",
      "|   156|                                              Tall|\n",
      "|   160|                                              Tall|\n",
      "+------+--------------------------------------------------+\n",
      "only showing top 5 rows\n",
      "\n"
     ]
    }
   ],
   "source": [
    "# bieu thuc dieu kien condition\n",
    "#when(if condition, then x)\n",
    "#otherwise()\n",
    "obesity_data.select(obesity_data.height, when(obesity_data.height <= 150, \"Short\").otherwise('Tall')).show(5)"
   ]
  },
  {
   "cell_type": "code",
   "execution_count": 60,
   "metadata": {},
   "outputs": [
    {
     "name": "stdout",
     "output_type": "stream",
     "text": [
      "+------+------+\n",
      "|height|  Type|\n",
      "+------+------+\n",
      "|   150| Short|\n",
      "|   165|  Tall|\n",
      "|   157|Midium|\n",
      "|   156|Midium|\n",
      "|   160|Midium|\n",
      "+------+------+\n",
      "only showing top 5 rows\n",
      "\n"
     ]
    }
   ],
   "source": [
    "obesity_data.select(obesity_data.height, when(obesity_data.height <= 150, \"Short\")\n",
    "                    .when(obesity_data.height <= 160, \"Midium\")\n",
    "                    .otherwise('Tall').alias('Type')).show(5)"
   ]
  },
  {
   "cell_type": "code",
   "execution_count": 61,
   "metadata": {},
   "outputs": [],
   "source": [
    "from pyspark.sql.functions import udf"
   ]
  },
  {
   "cell_type": "code",
   "execution_count": 62,
   "metadata": {},
   "outputs": [],
   "source": [
    "# Tu dinh nghia function\n",
    "def bmi_type(bmi):\n",
    "    bmi_type =\"\"\n",
    "    if bmi <= 18.5:\n",
    "        bmi_type = \"Under weight\"\n",
    "    elif bmi <= 24.9:\n",
    "        bmi_type = \"Normal weight\"\n",
    "    elif bmi <= 29.9:\n",
    "        bmi_type = \"Over weight\"\n",
    "    else:\n",
    "        bmi_type = \"Obesity\"\n",
    "    return bmi_type\n",
    "    "
   ]
  },
  {
   "cell_type": "code",
   "execution_count": 63,
   "metadata": {},
   "outputs": [
    {
     "name": "stdout",
     "output_type": "stream",
     "text": [
      "+---+------+------+------+----+---+----+----+-----+-----+-----+-------------+\n",
      "| id|gender|height|weight| bmi|age| bmc| bmd|  fat| lean|pcfat|     bmi_type|\n",
      "+---+------+------+------+----+---+----+----+-----+-----+-----+-------------+\n",
      "|  1|     F|   150|    49|21.8| 53|1312|0.88|17802|28600| 37.3|Normal weight|\n",
      "|  2|     M|   165|    52|19.1| 65|1309|0.84| 8381|40229| 16.8|Normal weight|\n",
      "|  3|     F|   157|    57|23.1| 64|1230|0.84|19221|36057| 34.0|Normal weight|\n",
      "|  4|     F|   156|    53|21.8| 56|1171| 0.8|17472|33094| 33.8|Normal weight|\n",
      "|  5|     M|   160|    51|19.9| 54|1681|0.98| 7336|40621| 14.8|Normal weight|\n",
      "+---+------+------+------+----+---+----+----+-----+-----+-----+-------------+\n",
      "only showing top 5 rows\n",
      "\n"
     ]
    }
   ],
   "source": [
    "udfBMI = udf(bmi_type, StringType())\n",
    "obesity_data.withColumn('bmi_type', udfBMI(obesity_data.bmi)).show(5)"
   ]
  },
  {
   "cell_type": "code",
   "execution_count": 64,
   "metadata": {},
   "outputs": [],
   "source": [
    "## chart\n",
    "import matplotlib.pyplot as plt\n",
    "import seaborn as sns\n"
   ]
  },
  {
   "cell_type": "code",
   "execution_count": 65,
   "metadata": {},
   "outputs": [],
   "source": [
    "df_pandas = obesity_data.toPandas()"
   ]
  },
  {
   "cell_type": "code",
   "execution_count": 66,
   "metadata": {},
   "outputs": [
    {
     "data": {
      "text/plain": [
       "id       -0.000515\n",
       "height    0.473462\n",
       "weight    0.672430\n",
       "bmi       0.534646\n",
       "age      -0.008657\n",
       "bmc       0.300742\n",
       "bmd      -0.148707\n",
       "fat       0.360215\n",
       "lean      0.900620\n",
       "pcfat    -0.486587\n",
       "dtype: float64"
      ]
     },
     "execution_count": 66,
     "metadata": {},
     "output_type": "execute_result"
    }
   ],
   "source": [
    "df_pandas.skew()"
   ]
  },
  {
   "cell_type": "code",
   "execution_count": 67,
   "metadata": {},
   "outputs": [
    {
     "data": {
      "image/png": "[encoded data removed]",
      "text/plain": [
       "<Figure size 432x288 with 2 Axes>"
      ]
     },
     "metadata": {
      "needs_background": "light"
     },
     "output_type": "display_data"
    }
   ],
   "source": [
    "plt.subplot(1,2,1)\n",
    "plt.hist(df_pandas['height'])\n",
    "plt.subplot(1,2,2)\n",
    "sns.distplot(df_pandas['height'])\n",
    "plt.show()"
   ]
  },
  {
   "cell_type": "code",
   "execution_count": 68,
   "metadata": {},
   "outputs": [
    {
     "data": {
      "text/plain": [
       "0.4734624088426363"
      ]
     },
     "execution_count": 68,
     "metadata": {},
     "output_type": "execute_result"
    }
   ],
   "source": [
    "df_pandas['height'].skew()"
   ]
  },
  {
   "cell_type": "code",
   "execution_count": 69,
   "metadata": {},
   "outputs": [],
   "source": [
    "#SQL\n",
    "#Tao bang tam\n",
    "people.createOrReplaceTempView('people')"
   ]
  },
  {
   "cell_type": "code",
   "execution_count": 70,
   "metadata": {},
   "outputs": [],
   "source": [
    "# SQL\n",
    "query = \"SELECT name FROM people\"\n",
    "people_df_names = spark.sql(query)"
   ]
  },
  {
   "cell_type": "code",
   "execution_count": 71,
   "metadata": {},
   "outputs": [
    {
     "name": "stdout",
     "output_type": "stream",
     "text": [
      "+----------------+\n",
      "|            name|\n",
      "+----------------+\n",
      "|  Penelope Lewis|\n",
      "|   David Anthony|\n",
      "|       Ida Shipp|\n",
      "|    Joanna Moore|\n",
      "|  Lisandra Ortiz|\n",
      "|   David Simmons|\n",
      "|   Edward Hudson|\n",
      "|    Albert Jones|\n",
      "|Leonard Cavender|\n",
      "|  Everett Vadala|\n",
      "+----------------+\n",
      "only showing top 10 rows\n",
      "\n"
     ]
    }
   ],
   "source": [
    "people_df_names.show(10)"
   ]
  },
  {
   "cell_type": "code",
   "execution_count": 72,
   "metadata": {},
   "outputs": [
    {
     "name": "stdout",
     "output_type": "stream",
     "text": [
      "+---+---------+-----------------+------+-------------+\n",
      "|_c0|person_id|             name|   sex|date of birth|\n",
      "+---+---------+-----------------+------+-------------+\n",
      "|  0|      100|   Penelope Lewis|female|   1990-08-31|\n",
      "|  2|      102|        Ida Shipp|female|   1962-05-24|\n",
      "|  3|      103|     Joanna Moore|female|   2017-03-10|\n",
      "|  4|      104|   Lisandra Ortiz|female|   2020-08-05|\n",
      "| 11|      111|Annabelle Rosseau|female|   1989-07-13|\n",
      "| 12|      112|    Eulah Emanuel|female|   1976-01-19|\n",
      "| 16|      116|   Carla Spickard|female|   1985-06-13|\n",
      "| 17|      117|Florence Eberhart|female|   2024-06-01|\n",
      "| 18|      118|     Tina Gaskins|female|   1966-12-05|\n",
      "| 19|      119| Florence Mulhern|female|   1959-05-31|\n",
      "| 21|      121|    Evelyn Kriner|female|   1978-09-16|\n",
      "| 22|      122|     Heather Luce|female|   2012-02-24|\n",
      "| 26|      126|      Marion Baca|female|   1948-03-04|\n",
      "| 27|      127|       Devona Kay|female|   2009-12-30|\n",
      "| 28|      128|   Betty Endicott|female|   1992-05-01|\n",
      "| 30|      130|        Jane Ross|female|   1965-09-12|\n",
      "| 34|      134|   Pauline Steele|female|   1969-10-18|\n",
      "| 35|      135|     Anne Novotny|female|   1936-02-18|\n",
      "| 37|      137|      Carol Noble|female|   1997-02-11|\n",
      "| 38|      138| Constance Fulmer|female|   2004-03-07|\n",
      "+---+---------+-----------------+------+-------------+\n",
      "only showing top 20 rows\n",
      "\n"
     ]
    }
   ],
   "source": [
    "people_female = spark.sql(\"SELECT * FROM people WHERE sex=='female'\")\n",
    "people_female.show()\n"
   ]
  },
  {
   "cell_type": "code",
   "execution_count": 73,
   "metadata": {},
   "outputs": [
    {
     "name": "stdout",
     "output_type": "stream",
     "text": [
      "+---+---------+----------------+----+-------------+\n",
      "|_c0|person_id|            name| sex|date of birth|\n",
      "+---+---------+----------------+----+-------------+\n",
      "|  1|      101|   David Anthony|male|   1971-10-14|\n",
      "|  5|      105|   David Simmons|male|   1999-12-30|\n",
      "|  6|      106|   Edward Hudson|male|   1983-05-09|\n",
      "|  7|      107|    Albert Jones|male|   1990-09-13|\n",
      "|  8|      108|Leonard Cavender|male|   1958-08-08|\n",
      "+---+---------+----------------+----+-------------+\n",
      "only showing top 5 rows\n",
      "\n"
     ]
    }
   ],
   "source": [
    "people_male = spark.sql(\"select * from people where sex == 'male'\").show(5)"
   ]
  },
  {
   "cell_type": "code",
   "execution_count": 74,
   "metadata": {},
   "outputs": [
    {
     "name": "stdout",
     "output_type": "stream",
     "text": [
      "+-----+---------+--------------+------+-------------+\n",
      "|  _c0|person_id|          name|   sex|date of birth|\n",
      "+-----+---------+--------------+------+-------------+\n",
      "|    9|      109|Everett Vadala|  male|   2005-05-24|\n",
      "|77207|    77307| Marlyn Vadala|female|   1992-07-02|\n",
      "+-----+---------+--------------+------+-------------+\n",
      "\n"
     ]
    }
   ],
   "source": [
    "## LIKE\n",
    "people_vadala = spark.sql(\"Select * From people Where name like '%Vadala'\")\n",
    "people_vadala.show(2)"
   ]
  },
  {
   "cell_type": "code",
   "execution_count": 75,
   "metadata": {},
   "outputs": [
    {
     "name": "stdout",
     "output_type": "stream",
     "text": [
      "+----+---------+---------------+----+-------------+\n",
      "| _c0|person_id|           name| sex|date of birth|\n",
      "+----+---------+---------------+----+-------------+\n",
      "|   7|      107|   Albert Jones|male|   1990-09-13|\n",
      "| 380|      480|Albert Guillory|male|   2001-02-10|\n",
      "|1577|     1677|  Albert Miller|male|   1976-09-16|\n",
      "+----+---------+---------------+----+-------------+\n",
      "only showing top 3 rows\n",
      "\n"
     ]
    }
   ],
   "source": [
    "people_Albert  = spark.sql(\"Select * From people Where name like 'Albert%'\").show(3)"
   ]
  },
  {
   "cell_type": "code",
   "execution_count": 76,
   "metadata": {},
   "outputs": [
    {
     "name": "stdout",
     "output_type": "stream",
     "text": [
      "+----------+\n",
      "|   SubName|\n",
      "+----------+\n",
      "|Albert Jon|\n",
      "|Albert Gui|\n",
      "|Albert Mil|\n",
      "+----------+\n",
      "only showing top 3 rows\n",
      "\n"
     ]
    }
   ],
   "source": [
    "## substring\n",
    "name_sub = spark.sql(\"select substring(name, 0, 10) as SubName From people where name like 'Albert%'\").show(3)\n"
   ]
  },
  {
   "cell_type": "code",
   "execution_count": 78,
   "metadata": {},
   "outputs": [
    {
     "name": "stdout",
     "output_type": "stream",
     "text": [
      "+---+---------+--------------+------+-------------+\n",
      "|_c0|person_id|          name|   sex|date of birth|\n",
      "+---+---------+--------------+------+-------------+\n",
      "|  0|      100|Penelope Lewis|female|   1990-08-31|\n",
      "|  1|      101| David Anthony|  male|   1971-10-14|\n",
      "+---+---------+--------------+------+-------------+\n",
      "only showing top 2 rows\n",
      "\n",
      "+--------------+\n",
      "|          name|\n",
      "+--------------+\n",
      "|Penelope Lewis|\n",
      "| David Anthony|\n",
      "+--------------+\n",
      "only showing top 2 rows\n",
      "\n"
     ]
    }
   ],
   "source": [
    "#SQL voi DataFrame API\n",
    "spark.sql(\"Select * From people\").show(2) \n",
    "people.select(\"name\").show(2)\n"
   ]
  },
  {
   "cell_type": "code",
   "execution_count": null,
   "metadata": {},
   "outputs": [],
   "source": [
    "#SQL voi DataFrame API WHERE\n",
    "spark.sql(\"Select * From people Where sex = 'male'\").show()\n",
    "#------\n",
    "people.where(people.sex == 'male')\n"
   ]
  },
  {
   "cell_type": "code",
   "execution_count": null,
   "metadata": {},
   "outputs": [],
   "source": [
    "#SQL voi DataFrame API LIKE/ startswith/ endswith\n",
    "spark.sql(\"Select * From people Where name like '%Vadala'\").show()\n",
    "#-----\n",
    "people.where(people.name.like('%Vadala'))\n",
    "people.where(people.name.endswith('Vadala'))\n"
   ]
  },
  {
   "cell_type": "code",
   "execution_count": null,
   "metadata": {},
   "outputs": [],
   "source": [
    "# Substring\n"
   ]
  },
  {
   "cell_type": "code",
   "execution_count": null,
   "metadata": {},
   "outputs": [],
   "source": [
    "#Tim thay the gia tri null\n",
    "#DataFrame.na.fill(value)\n",
    "# Phan vung du lieu\n",
    "people.repartitions(10).rdd.getNumPartitions()"
   ]
  },
  {
   "cell_type": "code",
   "execution_count": null,
   "metadata": {},
   "outputs": [],
   "source": []
  },
  {
   "cell_type": "code",
   "execution_count": null,
   "metadata": {},
   "outputs": [],
   "source": []
  }
 ],
 "metadata": {
  "kernelspec": {
   "display_name": "Python 3",
   "language": "python",
   "name": "python3"
  },
  "language_info": {
   "codemirror_mode": {
    "name": "ipython",
    "version": 3
   },
   "file_extension": ".py",
   "mimetype": "text/x-python",
   "name": "python",
   "nbconvert_exporter": "python",
   "pygments_lexer": "ipython3",
   "version": "3.6.8"
  }
 },
 "nbformat": 4,
 "nbformat_minor": 2
}
